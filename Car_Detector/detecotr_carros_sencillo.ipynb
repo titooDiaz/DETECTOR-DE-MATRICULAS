{
 "cells": [
  {
   "cell_type": "code",
   "execution_count": 1,
   "metadata": {},
   "outputs": [],
   "source": [
    "import cv2\n",
    "\n",
    "# Cargar el clasificador Haarcascade para automóviles\n",
    "car_cascade = cv2.CascadeClassifier('cars.xml')\n",
    "\n",
    "# Iniciar la captura de video desde la cámara (puedes ajustar el número de la cámara según tus necesidades)\n",
    "cap = cv2.VideoCapture(0)\n",
    "\n",
    "while True:\n",
    "    # Leer un fotograma de la cámara\n",
    "    ret, frame = cap.read()\n",
    "\n",
    "    # Convertir la imagen a escala de grises\n",
    "    gray = cv2.cvtColor(frame, cv2.COLOR_BGR2GRAY)\n",
    "\n",
    "    # Detectar automóviles en la imagen\n",
    "    cars = car_cascade.detectMultiScale(gray, scaleFactor=1.1, minNeighbors=3)\n",
    "\n",
    "\n",
    "    # Dibujar rectángulos alrededor de los automóviles detectados\n",
    "    for (x, y, w, h) in cars:\n",
    "        cv2.rectangle(frame, (x, y), (x+w, y+h), (0, 0, 255), 2)\n",
    "\n",
    "    # Mostrar la imagen resultante\n",
    "    cv2.imshow('Car Detection', frame)\n",
    "\n",
    "    # Romper el bucle si se presiona la tecla 'q'\n",
    "    if cv2.waitKey(1) & 0xFF == ord('q'):\n",
    "        break\n",
    "\n",
    "# Liberar la captura de video y cerrar la ventana\n",
    "cap.release()\n",
    "cv2.destroyAllWindows()\n"
   ]
  }
 ],
 "metadata": {
  "kernelspec": {
   "display_name": "env",
   "language": "python",
   "name": "python3"
  },
  "language_info": {
   "codemirror_mode": {
    "name": "ipython",
    "version": 3
   },
   "file_extension": ".py",
   "mimetype": "text/x-python",
   "name": "python",
   "nbconvert_exporter": "python",
   "pygments_lexer": "ipython3",
   "version": "3.12.1"
  }
 },
 "nbformat": 4,
 "nbformat_minor": 2
}
