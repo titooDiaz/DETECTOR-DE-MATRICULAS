{
 "cells": [
  {
   "cell_type": "code",
   "execution_count": 4,
   "metadata": {},
   "outputs": [
    {
     "ename": "error",
     "evalue": "OpenCV(4.8.1) :-1: error: (-5:Bad argument) in function 'CascadeClassifier'\n> Overload resolution failed:\n>  - CascadeClassifier() takes at most 1 argument (2 given)\n",
     "output_type": "error",
     "traceback": [
      "\u001b[1;31m---------------------------------------------------------------------------\u001b[0m",
      "\u001b[1;31merror\u001b[0m                                     Traceback (most recent call last)",
      "\u001b[1;32mc:\\Users\\Miguel Angel\\Desktop\\TODO\\PROGRAMACION\\PROYECTOS EN GIT HUB\\DETECTOR DE MATRICULAS\\Car_Detector\\detector_carros.ipynb Cell 1\u001b[0m line \u001b[0;36m4\n\u001b[0;32m      <a href='vscode-notebook-cell:/c%3A/Users/Miguel%20Angel/Desktop/TODO/PROGRAMACION/PROYECTOS%20EN%20GIT%20HUB/DETECTOR%20DE%20MATRICULAS/Car_Detector/detector_carros.ipynb#W0sZmlsZQ%3D%3D?line=0'>1</a>\u001b[0m \u001b[39mimport\u001b[39;00m \u001b[39mcv2\u001b[39;00m\n\u001b[0;32m      <a href='vscode-notebook-cell:/c%3A/Users/Miguel%20Angel/Desktop/TODO/PROGRAMACION/PROYECTOS%20EN%20GIT%20HUB/DETECTOR%20DE%20MATRICULAS/Car_Detector/detector_carros.ipynb#W0sZmlsZQ%3D%3D?line=2'>3</a>\u001b[0m \u001b[39m# Cargar el clasificador Haarcascade para automóviles\u001b[39;00m\n\u001b[1;32m----> <a href='vscode-notebook-cell:/c%3A/Users/Miguel%20Angel/Desktop/TODO/PROGRAMACION/PROYECTOS%20EN%20GIT%20HUB/DETECTOR%20DE%20MATRICULAS/Car_Detector/detector_carros.ipynb#W0sZmlsZQ%3D%3D?line=3'>4</a>\u001b[0m car_cascade \u001b[39m=\u001b[39m cv2\u001b[39m.\u001b[39;49mCascadeClassifier(\u001b[39m'\u001b[39;49m\u001b[39m./../../venv/yolov3.weights\u001b[39;49m\u001b[39m'\u001b[39;49m,\u001b[39m'\u001b[39;49m\u001b[39m./../../venv/yolov3.cfg\u001b[39;49m\u001b[39m'\u001b[39;49m)\n\u001b[0;32m      <a href='vscode-notebook-cell:/c%3A/Users/Miguel%20Angel/Desktop/TODO/PROGRAMACION/PROYECTOS%20EN%20GIT%20HUB/DETECTOR%20DE%20MATRICULAS/Car_Detector/detector_carros.ipynb#W0sZmlsZQ%3D%3D?line=5'>6</a>\u001b[0m \u001b[39m# Iniciar la captura de video desde la cámara (puedes ajustar el número de la cámara según tus necesidades)\u001b[39;00m\n\u001b[0;32m      <a href='vscode-notebook-cell:/c%3A/Users/Miguel%20Angel/Desktop/TODO/PROGRAMACION/PROYECTOS%20EN%20GIT%20HUB/DETECTOR%20DE%20MATRICULAS/Car_Detector/detector_carros.ipynb#W0sZmlsZQ%3D%3D?line=6'>7</a>\u001b[0m cap \u001b[39m=\u001b[39m cv2\u001b[39m.\u001b[39mVideoCapture(\u001b[39m0\u001b[39m)\n",
      "\u001b[1;31merror\u001b[0m: OpenCV(4.8.1) :-1: error: (-5:Bad argument) in function 'CascadeClassifier'\n> Overload resolution failed:\n>  - CascadeClassifier() takes at most 1 argument (2 given)\n"
     ]
    }
   ],
   "source": [
    "import cv2\n",
    "\n",
    "# Cargar el clasificador Haarcascade para automóviles\n",
    "car_cascade = cv2.CascadeClassifier('cars.xml')\n",
    "\n",
    "# Iniciar la captura de video desde la cámara (puedes ajustar el número de la cámara según tus necesidades)\n",
    "cap = cv2.VideoCapture(0)\n",
    "\n",
    "while True:\n",
    "    # Leer un fotograma de la cámara\n",
    "    ret, frame = cap.read()\n",
    "\n",
    "    # Convertir la imagen a escala de grises\n",
    "    gray = cv2.cvtColor(frame, cv2.COLOR_BGR2GRAY)\n",
    "\n",
    "    # Detectar automóviles en la imagen\n",
    "    cars = car_cascade.detectMultiScale(gray, scaleFactor=1.1, minNeighbors=3)\n",
    "\n",
    "\n",
    "    # Dibujar rectángulos alrededor de los automóviles detectados\n",
    "    for (x, y, w, h) in cars:\n",
    "        cv2.rectangle(frame, (x, y), (x+w, y+h), (0, 0, 255), 2)\n",
    "\n",
    "    # Mostrar la imagen resultante\n",
    "    cv2.imshow('Car Detection', frame)\n",
    "\n",
    "    # Romper el bucle si se presiona la tecla 'q'\n",
    "    if cv2.waitKey(1) & 0xFF == ord('q'):\n",
    "        break\n",
    "\n",
    "# Liberar la captura de video y cerrar la ventana\n",
    "cap.release()\n",
    "cv2.destroyAllWindows()\n"
   ]
  },
  {
   "cell_type": "code",
   "execution_count": 1,
   "metadata": {},
   "outputs": [],
   "source": [
    "#con machine learningimport cv2\n",
    "import cv2\n",
    "import numpy as np\n",
    "\n",
    "# Cargar la red YOLO preentrenada\n",
    "net = cv2.dnn.readNet('./../../../venv/yolov3.weights','./../../../venv/yolov3.cfg')\n",
    "layer_names = net.getUnconnectedOutLayersNames()\n",
    "\n",
    "cap = cv2.VideoCapture(0)\n",
    "\n",
    "while True:\n",
    "    ret, frame = cap.read()\n",
    "\n",
    "    # Obtener las dimensiones de la imagen\n",
    "    height, width, _ = frame.shape\n",
    "\n",
    "    blob = cv2.dnn.blobFromImage(frame, 1/255.0, (416, 416), swapRB=True, crop=False)\n",
    "    net.setInput(blob)\n",
    "\n",
    "    # Obtener las detecciones\n",
    "    detections = net.forward(layer_names)\n",
    "\n",
    "    # Procesar las detecciones\n",
    "    \n",
    "    for detection in detections[0]:\n",
    "        scores = detection[5:]\n",
    "        class_id = np.argmax(scores)\n",
    "        confidence = scores[class_id]\n",
    "\n",
    "        if confidence > 0.5 and class_id == 2:\n",
    "            center_x = int(detection[0] * width)\n",
    "            center_y = int(detection[1] * height)\n",
    "            w = int(detection[2] * width)\n",
    "            h = int(detection[3] * height)\n",
    "\n",
    "            # Coordenadas de la esquina superior izquierda\n",
    "            x = int(center_x - w / 2)\n",
    "            y = int(center_y - h / 2)\n",
    "\n",
    "            # Dibujar rectángulo alrededor del carro detectado\n",
    "            cv2.rectangle(frame, (x, y), (x+w, y+h), (0, 0, 255), 2)\n",
    "\n",
    "    # Mostrar la imagen resultante\n",
    "    cv2.imshow('Car Detection', frame)\n",
    "\n",
    "    if cv2.waitKey(1) & 0xFF == ord('q'):\n",
    "        break\n",
    "\n",
    "cap.release()\n",
    "cv2.destroyAllWindows()\n"
   ]
  }
 ],
 "metadata": {
  "kernelspec": {
   "display_name": "env",
   "language": "python",
   "name": "python3"
  },
  "language_info": {
   "codemirror_mode": {
    "name": "ipython",
    "version": 3
   },
   "file_extension": ".py",
   "mimetype": "text/x-python",
   "name": "python",
   "nbconvert_exporter": "python",
   "pygments_lexer": "ipython3",
   "version": "3.11.4"
  }
 },
 "nbformat": 4,
 "nbformat_minor": 2
}
