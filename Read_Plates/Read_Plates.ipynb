{
 "cells": [
  {
   "cell_type": "code",
   "execution_count": 1,
   "metadata": {},
   "outputs": [
    {
     "data": {
      "text/plain": [
       "' The latest installer can be downloaded here:\\ntesseract-ocr-w64-setup-5.3.3.20231005.exe (64 bit)'"
      ]
     },
     "execution_count": 1,
     "metadata": {},
     "output_type": "execute_result"
    }
   ],
   "source": [
    "#descargar paquete\n",
    "# https://github.com/UB-Mannheim/tesseract/wiki\n",
    "#  en la linea\n",
    "\"\"\" The latest installer can be downloaded here:\n",
    "tesseract-ocr-w64-setup-5.3.3.20231005.exe (64 bit)\"\"\"\n",
    "\n",
    "#carpeta de mi destino\n",
    "#C:\\Program Files\\Tesseract-OCR\n"
   ]
  },
  {
   "cell_type": "code",
   "execution_count": 2,
   "metadata": {},
   "outputs": [],
   "source": [
    "import cv2\n",
    "import pytesseract\n",
    "import numpy as np\n",
    "\n",
    "pytesseract.pytesseract.tesseract_cmd=r\"C:\\Program Files\\Tesseract-OCR\\tesseract.exe\""
   ]
  },
  {
   "cell_type": "code",
   "execution_count": 3,
   "metadata": {},
   "outputs": [
    {
     "ename": "error",
     "evalue": "OpenCV(4.8.1) D:\\a\\opencv-python\\opencv-python\\opencv\\modules\\imgproc\\src\\morph.dispatch.cpp:1010: error: (-215:Assertion failed) !src.empty() in function 'cv::erode'\n",
     "output_type": "error",
     "traceback": [
      "\u001b[1;31m---------------------------------------------------------------------------\u001b[0m",
      "\u001b[1;31merror\u001b[0m                                     Traceback (most recent call last)",
      "Cell \u001b[1;32mIn[3], line 55\u001b[0m\n\u001b[0;32m     53\u001b[0m \u001b[38;5;66;03m#your number th cars\u001b[39;00m\n\u001b[0;32m     54\u001b[0m i\u001b[38;5;241m=\u001b[39m\u001b[38;5;241m4\u001b[39m\n\u001b[1;32m---> 55\u001b[0m Plate_Cleaned \u001b[38;5;241m=\u001b[39m \u001b[43meliminar_manchas\u001b[49m\u001b[43m(\u001b[49m\u001b[38;5;124;43mf\u001b[39;49m\u001b[38;5;124;43m'\u001b[39;49m\u001b[38;5;124;43m./Plates_Img/\u001b[39;49m\u001b[38;5;132;43;01m{\u001b[39;49;00m\u001b[43mi\u001b[49m\u001b[38;5;132;43;01m}\u001b[39;49;00m\u001b[38;5;124;43m.png\u001b[39;49m\u001b[38;5;124;43m'\u001b[39;49m\u001b[43m)\u001b[49m\n",
      "Cell \u001b[1;32mIn[3], line 40\u001b[0m, in \u001b[0;36meliminar_manchas\u001b[1;34m(imagen_path)\u001b[0m\n\u001b[0;32m     37\u001b[0m kernel \u001b[38;5;241m=\u001b[39m np\u001b[38;5;241m.\u001b[39mones((\u001b[38;5;241m5\u001b[39m, \u001b[38;5;241m5\u001b[39m), np\u001b[38;5;241m.\u001b[39muint8)\n\u001b[0;32m     39\u001b[0m img \u001b[38;5;241m=\u001b[39m cv2\u001b[38;5;241m.\u001b[39mimread(imagen_path, cv2\u001b[38;5;241m.\u001b[39mIMREAD_GRAYSCALE)\n\u001b[1;32m---> 40\u001b[0m img \u001b[38;5;241m=\u001b[39m \u001b[43meliminar_puntos_pequenos\u001b[49m\u001b[43m(\u001b[49m\u001b[43mimg\u001b[49m\u001b[43m)\u001b[49m\n\u001b[0;32m     41\u001b[0m img \u001b[38;5;241m=\u001b[39m ajustar_relacion_aspecto(img)\n\u001b[0;32m     43\u001b[0m \u001b[38;5;66;03m# Aplicar la operación de apertura\u001b[39;00m\n",
      "Cell \u001b[1;32mIn[3], line 7\u001b[0m, in \u001b[0;36meliminar_puntos_pequenos\u001b[1;34m(img)\u001b[0m\n\u001b[0;32m      4\u001b[0m kernel \u001b[38;5;241m=\u001b[39m np\u001b[38;5;241m.\u001b[39mones((\u001b[38;5;241m3\u001b[39m, \u001b[38;5;241m3\u001b[39m), np\u001b[38;5;241m.\u001b[39muint8)\n\u001b[0;32m      6\u001b[0m \u001b[38;5;66;03m# Aplicar la erosión para eliminar puntos pequeños\u001b[39;00m\n\u001b[1;32m----> 7\u001b[0m img \u001b[38;5;241m=\u001b[39m \u001b[43mcv2\u001b[49m\u001b[38;5;241;43m.\u001b[39;49m\u001b[43merode\u001b[49m\u001b[43m(\u001b[49m\u001b[43mimg_binaria\u001b[49m\u001b[43m,\u001b[49m\u001b[43m \u001b[49m\u001b[43mkernel\u001b[49m\u001b[43m,\u001b[49m\u001b[43m \u001b[49m\u001b[43miterations\u001b[49m\u001b[38;5;241;43m=\u001b[39;49m\u001b[38;5;241;43m3\u001b[39;49m\u001b[43m)\u001b[49m\n\u001b[0;32m      9\u001b[0m \u001b[38;5;66;03m# Mostrar la imagen original y la imagen sin puntos pequeños\u001b[39;00m\n\u001b[0;32m     10\u001b[0m cv2\u001b[38;5;241m.\u001b[39mimshow(\u001b[38;5;124m'\u001b[39m\u001b[38;5;124mImagen Original\u001b[39m\u001b[38;5;124m'\u001b[39m, img_binaria)\n",
      "\u001b[1;31merror\u001b[0m: OpenCV(4.8.1) D:\\a\\opencv-python\\opencv-python\\opencv\\modules\\imgproc\\src\\morph.dispatch.cpp:1010: error: (-215:Assertion failed) !src.empty() in function 'cv::erode'\n"
     ]
    }
   ],
   "source": [
    "def eliminar_puntos_pequenos(img):\n",
    "    # Binarizar la imagen (convertir a blanco y negro)\n",
    "    _, img_binaria = cv2.threshold(img, 128, 255, cv2.THRESH_BINARY)\n",
    "    kernel = np.ones((3, 3), np.uint8)\n",
    "\n",
    "    # Aplicar la erosión para eliminar puntos pequeños\n",
    "    img = cv2.erode(img_binaria, kernel, iterations=3)\n",
    "\n",
    "    # Mostrar la imagen original y la imagen sin puntos pequeños\n",
    "    cv2.imshow('Imagen Original', img_binaria)\n",
    "    cv2.imshow('Imagen Sin Puntos Pequeños', img)\n",
    "    cv2.waitKey(0)\n",
    "    cv2.destroyAllWindows()\n",
    "    return img\n",
    "\n",
    "def ajustar_relacion_aspecto(img):\n",
    "    altura, anchura = img.shape[:2]\n",
    "    print(float(anchura/altura))\n",
    "    if float(anchura/altura) < 1.5:\n",
    "        # Calcular la nueva altura según la fórmula\n",
    "        nueva_altura = int(((anchura * 2) / 3))\n",
    "\n",
    "        # Calcular cuántos píxeles quitar de la parte superior e inferior\n",
    "        pixeles_a_quitar = (altura - nueva_altura) // 2\n",
    "        img_recortada = img[pixeles_a_quitar:altura - pixeles_a_quitar, :]\n",
    "\n",
    "        cv2.imshow('Imagen Original', img)\n",
    "        cv2.imshow('Imagen Recortada', img_recortada)\n",
    "        cv2.waitKey(0)\n",
    "        cv2.destroyAllWindows()\n",
    "        return img_recortada\n",
    "    return img\n",
    "    \n",
    "\n",
    "def eliminar_manchas(imagen_path):\n",
    "    # Definir el kernel para las operaciones morfológicas\n",
    "    kernel = np.ones((5, 5), np.uint8)\n",
    "    \n",
    "    img = cv2.imread(imagen_path, cv2.IMREAD_GRAYSCALE)\n",
    "    img = eliminar_puntos_pequenos(img)\n",
    "    img = ajustar_relacion_aspecto(img)\n",
    "\n",
    "    # Aplicar la operación de apertura\n",
    "    Plate_Cleaned = cv2.morphologyEx(img, cv2.MORPH_OPEN, kernel)\n",
    "    \n",
    "    #show changes\n",
    "    cv2.imshow('Imagen Original', img)\n",
    "    cv2.imshow('Imagen Filtrada', Plate_Cleaned)\n",
    "    cv2.waitKey(0)\n",
    "    cv2.destroyAllWindows()\n",
    "    return Plate_Cleaned\n",
    "\n",
    "#your number th cars\n",
    "i=4\n",
    "Plate_Cleaned = eliminar_manchas(f'./Plates_Img/{i}.png')\n"
   ]
  },
  {
   "cell_type": "code",
   "execution_count": null,
   "metadata": {},
   "outputs": [
    {
     "name": "stdout",
     "output_type": "stream",
     "text": [
      "\n"
     ]
    }
   ],
   "source": [
    "def extract_num(img):\n",
    "    # Obtener las dimensiones originales de la imagen\n",
    "    alto, ancho = img.shape[:2]\n",
    "\n",
    "    # Calcular el 5% de las dimensiones originales\n",
    "    porcentaje_recorte = 0.02\n",
    "    recorte_ancho = round(ancho * porcentaje_recorte)\n",
    "    recorte_alto = round(alto * porcentaje_recorte)\n",
    "\n",
    "    # Definir las regiones de interés (ROI) para recortar\n",
    "    roi_superior = recorte_alto\n",
    "    roi_inferior = alto - recorte_alto\n",
    "    roi_izquierda = recorte_ancho\n",
    "    roi_derecha = ancho - recorte_ancho\n",
    "\n",
    "    # Recortar la imagen utilizando las regiones de interés\n",
    "    img = img[roi_superior:roi_inferior, roi_izquierda:roi_derecha]\n",
    "\n",
    "    cv2.imshow('Placa Marcada', img)\n",
    "    cv2.waitKey(0)\n",
    "    cv2.destroyAllWindows()\n",
    "    text = pytesseract.image_to_string(img, config='--psm 11')\n",
    "    return text\n",
    "print(extract_num(Plate_Cleaned))"
   ]
  },
  {
   "cell_type": "code",
   "execution_count": null,
   "metadata": {},
   "outputs": [],
   "source": [
    "# cv2.imshow('Placa Marcada', placa)\n",
    "# cv2.waitKey(0)\n",
    "# cv2.destroyAllWindows()"
   ]
  }
 ],
 "metadata": {
  "kernelspec": {
   "display_name": "env",
   "language": "python",
   "name": "python3"
  },
  "language_info": {
   "codemirror_mode": {
    "name": "ipython",
    "version": 3
   },
   "file_extension": ".py",
   "mimetype": "text/x-python",
   "name": "python",
   "nbconvert_exporter": "python",
   "pygments_lexer": "ipython3",
   "version": "3.12.1"
  }
 },
 "nbformat": 4,
 "nbformat_minor": 2
}
