{
 "cells": [
  {
   "cell_type": "code",
   "execution_count": 6,
   "metadata": {},
   "outputs": [
    {
     "data": {
      "text/plain": [
       "' The latest installer can be downloaded here:\\ntesseract-ocr-w64-setup-5.3.3.20231005.exe (64 bit)'"
      ]
     },
     "execution_count": 6,
     "metadata": {},
     "output_type": "execute_result"
    }
   ],
   "source": [
    "#descargar paquete\n",
    "# https://github.com/UB-Mannheim/tesseract/wiki\n",
    "#  en la linea\n",
    "\"\"\" The latest installer can be downloaded here:\n",
    "tesseract-ocr-w64-setup-5.3.3.20231005.exe (64 bit)\"\"\"\n",
    "\n",
    "#carpeta de mi destino\n",
    "#C:\\Program Files\\Tesseract-OCR\n"
   ]
  },
  {
   "cell_type": "code",
   "execution_count": 7,
   "metadata": {},
   "outputs": [],
   "source": [
    "import cv2\n",
    "import pytesseract\n",
    "import numpy as np\n",
    "\n",
    "pytesseract.pytesseract.tesseract_cmd=r\"C:\\Program Files\\Tesseract-OCR\\tesseract.exe\""
   ]
  },
  {
   "cell_type": "code",
   "execution_count": 8,
   "metadata": {},
   "outputs": [
    {
     "name": "stdout",
     "output_type": "stream",
     "text": [
      "1.9245283018867925\n"
     ]
    }
   ],
   "source": [
    "def eliminar_puntos_pequenos(img):\n",
    "    # Binarizar la imagen (convertir a blanco y negro)\n",
    "    _, img_binaria = cv2.threshold(img, 128, 255, cv2.THRESH_BINARY)\n",
    "    kernel = np.ones((3, 3), np.uint8)\n",
    "\n",
    "    # Aplicar la erosión para eliminar puntos pequeños\n",
    "    img = cv2.erode(img_binaria, kernel, iterations=3)\n",
    "\n",
    "    # Mostrar la imagen original y la imagen sin puntos pequeños\n",
    "    cv2.imshow('Imagen Original', img_binaria)\n",
    "    cv2.imshow('Imagen Sin Puntos Pequeños', img)\n",
    "    cv2.waitKey(0)\n",
    "    cv2.destroyAllWindows()\n",
    "    return img\n",
    "\n",
    "def ajustar_relacion_aspecto(img):\n",
    "    altura, anchura = img.shape[:2]\n",
    "    print(float(anchura/altura))\n",
    "    if float(anchura/altura) < 1.5:\n",
    "        # Calcular la nueva altura según la fórmula\n",
    "        nueva_altura = int(((anchura * 2) / 3))\n",
    "\n",
    "        # Calcular cuántos píxeles quitar de la parte superior e inferior\n",
    "        pixeles_a_quitar = (altura - nueva_altura) // 2\n",
    "        img_recortada = img[pixeles_a_quitar:altura - pixeles_a_quitar, :]\n",
    "\n",
    "        cv2.imshow('Imagen Original', img)\n",
    "        cv2.imshow('Imagen Recortada', img_recortada)\n",
    "        cv2.waitKey(0)\n",
    "        cv2.destroyAllWindows()\n",
    "        return img_recortada\n",
    "    return img\n",
    "    \n",
    "\n",
    "def eliminar_manchas(imagen_path):\n",
    "    # Definir el kernel para las operaciones morfológicas\n",
    "    kernel = np.ones((5, 5), np.uint8)\n",
    "    \n",
    "    img = cv2.imread(imagen_path, cv2.IMREAD_GRAYSCALE)\n",
    "    img = eliminar_puntos_pequenos(img)\n",
    "    img = ajustar_relacion_aspecto(img)\n",
    "\n",
    "    # Aplicar la operación de apertura\n",
    "    Plate_Cleaned = cv2.morphologyEx(img, cv2.MORPH_OPEN, kernel)\n",
    "    \n",
    "    #show changes\n",
    "    cv2.imshow('Imagen Original', img)\n",
    "    cv2.imshow('Imagen Filtrada', Plate_Cleaned)\n",
    "    cv2.waitKey(0)\n",
    "    cv2.destroyAllWindows()\n",
    "    return Plate_Cleaned\n",
    "\n",
    "#your number th cars\n",
    "i=4\n",
    "Plate_Cleaned = eliminar_manchas(f'./Plates_Img/{i}.png')\n"
   ]
  },
  {
   "cell_type": "code",
   "execution_count": 9,
   "metadata": {},
   "outputs": [
    {
     "name": "stdout",
     "output_type": "stream",
     "text": [
      "\n"
     ]
    }
   ],
   "source": [
    "def extract_num(img):\n",
    "    # Obtener las dimensiones originales de la imagen\n",
    "    alto, ancho = img.shape[:2]\n",
    "\n",
    "    # Calcular el 5% de las dimensiones originales\n",
    "    porcentaje_recorte = 0.02\n",
    "    recorte_ancho = round(ancho * porcentaje_recorte)\n",
    "    recorte_alto = round(alto * porcentaje_recorte)\n",
    "\n",
    "    # Definir las regiones de interés (ROI) para recortar\n",
    "    roi_superior = recorte_alto\n",
    "    roi_inferior = alto - recorte_alto\n",
    "    roi_izquierda = recorte_ancho\n",
    "    roi_derecha = ancho - recorte_ancho\n",
    "\n",
    "    # Recortar la imagen utilizando las regiones de interés\n",
    "    img = img[roi_superior:roi_inferior, roi_izquierda:roi_derecha]\n",
    "\n",
    "    cv2.imshow('Placa Marcada', img)\n",
    "    cv2.waitKey(0)\n",
    "    cv2.destroyAllWindows()\n",
    "    text = pytesseract.image_to_string(img, config='--psm 11')\n",
    "    return text\n",
    "print(extract_num(Plate_Cleaned))"
   ]
  },
  {
   "cell_type": "code",
   "execution_count": 10,
   "metadata": {},
   "outputs": [],
   "source": [
    "# cv2.imshow('Placa Marcada', placa)\n",
    "# cv2.waitKey(0)\n",
    "# cv2.destroyAllWindows()"
   ]
  }
 ],
 "metadata": {
  "kernelspec": {
   "display_name": "env",
   "language": "python",
   "name": "python3"
  },
  "language_info": {
   "codemirror_mode": {
    "name": "ipython",
    "version": 3
   },
   "file_extension": ".py",
   "mimetype": "text/x-python",
   "name": "python",
   "nbconvert_exporter": "python",
   "pygments_lexer": "ipython3",
   "version": "3.12.1"
  }
 },
 "nbformat": 4,
 "nbformat_minor": 2
}
